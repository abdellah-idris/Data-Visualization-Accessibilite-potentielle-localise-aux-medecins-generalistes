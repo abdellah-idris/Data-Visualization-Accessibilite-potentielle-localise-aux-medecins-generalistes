{
 "cells": [
  {
   "cell_type": "code",
   "execution_count": 29,
   "outputs": [],
   "source": [
    "import pandas as pd\n",
    "import geopandas as gpd\n",
    "import folium\n",
    "from folium import Choropleth\n",
    "from IPython.display import HTML"
   ],
   "metadata": {
    "collapsed": false,
    "ExecuteTime": {
     "end_time": "2023-10-30T20:37:24.648225800Z",
     "start_time": "2023-10-30T20:37:24.521325900Z"
    }
   },
   "id": "988562a28020e9c3"
  },
  {
   "cell_type": "markdown",
   "source": [
    "## Data processing"
   ],
   "metadata": {
    "collapsed": false
   },
   "id": "14d63b729b61ab15"
  },
  {
   "cell_type": "markdown",
   "source": [
    "#### How to read the data"
   ],
   "metadata": {
    "collapsed": false
   },
   "id": "ff0ee174ddaa904c"
  },
  {
   "cell_type": "markdown",
   "source": [
    "Lecture : Compte tenu de la structure par âge de la population, les habitants de l'Abergement-Clémenciat ont accès en moyenne à 2,2 consultations ou visites de médecine générale par an et par habitant. \n",
    "Ce chiffre s'élève à 2,1 quand on restreint l'offre de médecine générale à celle fournie par les médecins de 65 ans ou moins.\t\t\t\n",
    "\n",
    "Note : Pour calculer un APL moyen (agrégé au niveau du territoire de vie-santé ou du département par exemple), l'APL communal doit être pondéré par la population standardisée. \n",
    "\n",
    "Pour comptabiliser la population sous un seuil d'APL ou calculer des quantiles, la population non standardisée doit être utilisée.\t\t"
   ],
   "metadata": {
    "collapsed": false
   },
   "id": "9a98833760a07929"
  },
  {
   "cell_type": "markdown",
   "source": [
    "#### Read apl data"
   ],
   "metadata": {
    "collapsed": false
   },
   "id": "15f6e3972bbdce29"
  },
  {
   "cell_type": "code",
   "execution_count": 30,
   "outputs": [],
   "source": [
    "def read_apl_csv(year):\n",
    "    apl = pd.read_excel(r'C:\\Users\\idris\\OneDrive\\Documents\\Study\\M2\\data vis\\apl.xlsx', sheet_name='APL_' + str(year), skiprows=8)\n",
    "    apl = apl.drop(0)\n",
    "    apl['Code commune INSEE'] = pd.to_numeric(apl['Code commune INSEE'], errors='coerce')\n",
    "    return apl"
   ],
   "metadata": {
    "collapsed": false,
    "ExecuteTime": {
     "end_time": "2023-10-30T20:37:26.264395100Z",
     "start_time": "2023-10-30T20:37:25.870246400Z"
    }
   },
   "id": "475a58e9063a7ae2"
  },
  {
   "cell_type": "code",
   "execution_count": 31,
   "outputs": [],
   "source": [
    "apl_2015=read_apl_csv(2015)\n",
    "apl_2016=read_apl_csv(2016)\n",
    "apl_2017=read_apl_csv(2017)\n",
    "apl_2018=read_apl_csv(2018)\n",
    "apl_2019=read_apl_csv(2019)\n",
    "apl_2021=read_apl_csv(2021)"
   ],
   "metadata": {
    "collapsed": false,
    "ExecuteTime": {
     "end_time": "2023-10-30T20:38:00.956739300Z",
     "start_time": "2023-10-30T20:37:25.985272900Z"
    }
   },
   "id": "97cc2596d3907bb9"
  },
  {
   "cell_type": "code",
   "execution_count": 32,
   "outputs": [
    {
     "data": {
      "text/plain": "   Code commune INSEE                  Commune APL aux médecins généralistes  \\\n1              1001.0  L'Abergement-Clémenciat                         2.598   \n2              1002.0    L'Abergement-de-Varey                         2.888   \n3              1004.0        Ambérieu-en-Bugey                         4.569   \n4              1005.0      Ambérieux-en-Dombes                          4.19   \n5              1006.0                  Ambléon                         0.861   \n\n  APL aux médecins généralistes de moins de 65 ans  \\\n1                                            2.289   \n2                                            2.802   \n3                                            4.469   \n4                                            4.137   \n5                                            0.775   \n\n  Population standardisée 2017 pour la médecine générale  \\\n1                                            770.385       \n2                                            246.083       \n3                                          13676.946       \n4                                           1651.149       \n5                                            116.576       \n\n  Population totale 2017  \n1                    776  \n2                    248  \n3                  14035  \n4                   1689  \n5                    111  ",
      "text/html": "<div>\n<style scoped>\n    .dataframe tbody tr th:only-of-type {\n        vertical-align: middle;\n    }\n\n    .dataframe tbody tr th {\n        vertical-align: top;\n    }\n\n    .dataframe thead th {\n        text-align: right;\n    }\n</style>\n<table border=\"1\" class=\"dataframe\">\n  <thead>\n    <tr style=\"text-align: right;\">\n      <th></th>\n      <th>Code commune INSEE</th>\n      <th>Commune</th>\n      <th>APL aux médecins généralistes</th>\n      <th>APL aux médecins généralistes de moins de 65 ans</th>\n      <th>Population standardisée 2017 pour la médecine générale</th>\n      <th>Population totale 2017</th>\n    </tr>\n  </thead>\n  <tbody>\n    <tr>\n      <th>1</th>\n      <td>1001.0</td>\n      <td>L'Abergement-Clémenciat</td>\n      <td>2.598</td>\n      <td>2.289</td>\n      <td>770.385</td>\n      <td>776</td>\n    </tr>\n    <tr>\n      <th>2</th>\n      <td>1002.0</td>\n      <td>L'Abergement-de-Varey</td>\n      <td>2.888</td>\n      <td>2.802</td>\n      <td>246.083</td>\n      <td>248</td>\n    </tr>\n    <tr>\n      <th>3</th>\n      <td>1004.0</td>\n      <td>Ambérieu-en-Bugey</td>\n      <td>4.569</td>\n      <td>4.469</td>\n      <td>13676.946</td>\n      <td>14035</td>\n    </tr>\n    <tr>\n      <th>4</th>\n      <td>1005.0</td>\n      <td>Ambérieux-en-Dombes</td>\n      <td>4.19</td>\n      <td>4.137</td>\n      <td>1651.149</td>\n      <td>1689</td>\n    </tr>\n    <tr>\n      <th>5</th>\n      <td>1006.0</td>\n      <td>Ambléon</td>\n      <td>0.861</td>\n      <td>0.775</td>\n      <td>116.576</td>\n      <td>111</td>\n    </tr>\n  </tbody>\n</table>\n</div>"
     },
     "execution_count": 32,
     "metadata": {},
     "output_type": "execute_result"
    }
   ],
   "source": [
    "apl_2019.head()"
   ],
   "metadata": {
    "collapsed": false,
    "ExecuteTime": {
     "end_time": "2023-10-30T20:38:01.116116Z",
     "start_time": "2023-10-30T20:38:00.962397600Z"
    }
   },
   "id": "68db14770c1be92d"
  },
  {
   "cell_type": "code",
   "execution_count": 33,
   "outputs": [
    {
     "data": {
      "text/plain": "       Code commune INSEE                   Commune  \\\n34970             75116.0  Paris 16e Arrondissement   \n34971             75117.0  Paris 17e Arrondissement   \n34972             75118.0  Paris 18e Arrondissement   \n34973             75119.0  Paris 19e Arrondissement   \n34974             75120.0  Paris 20e Arrondissement   \n\n      APL aux médecins généralistes  \\\n34970                         3.546   \n34971                         4.662   \n34972                         4.267   \n34973                         4.672   \n34974                          4.17   \n\n      APL aux médecins généralistes de moins de 65 ans  \\\n34970                                            2.768   \n34971                                            3.752   \n34972                                            3.479   \n34973                                            3.843   \n34974                                            3.404   \n\n      Population standardisée 2019 pour la médecine générale  \\\n34970                                          167614.21       \n34971                                         159595.107       \n34972                                          180410.01       \n34973                                         176730.213       \n34974                                         187719.246       \n\n      Population totale 2019  \n34970                 165523  \n34971                 166543  \n34972                 192468  \n34973                 184573  \n34974                 194994  ",
      "text/html": "<div>\n<style scoped>\n    .dataframe tbody tr th:only-of-type {\n        vertical-align: middle;\n    }\n\n    .dataframe tbody tr th {\n        vertical-align: top;\n    }\n\n    .dataframe thead th {\n        text-align: right;\n    }\n</style>\n<table border=\"1\" class=\"dataframe\">\n  <thead>\n    <tr style=\"text-align: right;\">\n      <th></th>\n      <th>Code commune INSEE</th>\n      <th>Commune</th>\n      <th>APL aux médecins généralistes</th>\n      <th>APL aux médecins généralistes de moins de 65 ans</th>\n      <th>Population standardisée 2019 pour la médecine générale</th>\n      <th>Population totale 2019</th>\n    </tr>\n  </thead>\n  <tbody>\n    <tr>\n      <th>34970</th>\n      <td>75116.0</td>\n      <td>Paris 16e Arrondissement</td>\n      <td>3.546</td>\n      <td>2.768</td>\n      <td>167614.21</td>\n      <td>165523</td>\n    </tr>\n    <tr>\n      <th>34971</th>\n      <td>75117.0</td>\n      <td>Paris 17e Arrondissement</td>\n      <td>4.662</td>\n      <td>3.752</td>\n      <td>159595.107</td>\n      <td>166543</td>\n    </tr>\n    <tr>\n      <th>34972</th>\n      <td>75118.0</td>\n      <td>Paris 18e Arrondissement</td>\n      <td>4.267</td>\n      <td>3.479</td>\n      <td>180410.01</td>\n      <td>192468</td>\n    </tr>\n    <tr>\n      <th>34973</th>\n      <td>75119.0</td>\n      <td>Paris 19e Arrondissement</td>\n      <td>4.672</td>\n      <td>3.843</td>\n      <td>176730.213</td>\n      <td>184573</td>\n    </tr>\n    <tr>\n      <th>34974</th>\n      <td>75120.0</td>\n      <td>Paris 20e Arrondissement</td>\n      <td>4.17</td>\n      <td>3.404</td>\n      <td>187719.246</td>\n      <td>194994</td>\n    </tr>\n  </tbody>\n</table>\n</div>"
     },
     "execution_count": 33,
     "metadata": {},
     "output_type": "execute_result"
    }
   ],
   "source": [
    "apl_2021.tail()"
   ],
   "metadata": {
    "collapsed": false,
    "ExecuteTime": {
     "end_time": "2023-10-30T20:38:01.455119600Z",
     "start_time": "2023-10-30T20:38:01.109941700Z"
    }
   },
   "id": "141f1a21964cc866"
  },
  {
   "cell_type": "markdown",
   "source": [
    "#### communes-departement-region"
   ],
   "metadata": {
    "collapsed": false
   },
   "id": "9e4f50553fbdba0c"
  },
  {
   "cell_type": "markdown",
   "source": [
    "Ajout des regions et des departement\n",
    "On realisera une joiture entre 2 fichiers  csv:\n",
    " - APL\n",
    " - communes-departement-region"
   ],
   "metadata": {
    "collapsed": false
   },
   "id": "ada02706024d6997"
  },
  {
   "cell_type": "code",
   "execution_count": 34,
   "outputs": [],
   "source": [
    "cdp = pd.read_csv(r'C:\\Users\\idris\\OneDrive\\Documents\\Study\\M2\\data vis\\communes-departement-region.csv')"
   ],
   "metadata": {
    "collapsed": false,
    "ExecuteTime": {
     "end_time": "2023-10-30T20:38:01.681126400Z",
     "start_time": "2023-10-30T20:38:01.232214600Z"
    }
   },
   "id": "c057a3bcef691ee7"
  },
  {
   "cell_type": "code",
   "execution_count": 35,
   "outputs": [
    {
     "data": {
      "text/plain": "Index(['code_commune_INSEE', 'nom_commune_postal', 'code_postal',\n       'libelle_acheminement', 'ligne_5', 'latitude', 'longitude',\n       'code_commune', 'article', 'nom_commune', 'nom_commune_complet',\n       'code_departement', 'nom_departement', 'code_region', 'nom_region'],\n      dtype='object')"
     },
     "execution_count": 35,
     "metadata": {},
     "output_type": "execute_result"
    }
   ],
   "source": [
    "cdp.columns"
   ],
   "metadata": {
    "collapsed": false,
    "ExecuteTime": {
     "end_time": "2023-10-30T20:38:02.027778400Z",
     "start_time": "2023-10-30T20:38:01.622729100Z"
    }
   },
   "id": "5394912116b7ad35"
  },
  {
   "cell_type": "code",
   "execution_count": 36,
   "outputs": [],
   "source": [
    "cdp = cdp.rename(columns={'code_commune_INSEE': 'Code commune INSEE'})"
   ],
   "metadata": {
    "collapsed": false,
    "ExecuteTime": {
     "end_time": "2023-10-30T20:38:02.041380200Z",
     "start_time": "2023-10-30T20:38:01.745238300Z"
    }
   },
   "id": "12f17cf341749e2"
  },
  {
   "cell_type": "code",
   "execution_count": 37,
   "outputs": [],
   "source": [
    "cdp['Code commune INSEE'] = pd.to_numeric(cdp['Code commune INSEE'], errors='coerce')"
   ],
   "metadata": {
    "collapsed": false,
    "ExecuteTime": {
     "end_time": "2023-10-30T20:38:02.043486900Z",
     "start_time": "2023-10-30T20:38:01.850242900Z"
    }
   },
   "id": "2017a63065e84ea3"
  },
  {
   "cell_type": "code",
   "execution_count": 38,
   "outputs": [
    {
     "data": {
      "text/plain": "   Code commune INSEE       nom_commune_postal  code_postal  \\\n0              1001.0  L ABERGEMENT CLEMENCIAT         1400   \n1              1002.0    L ABERGEMENT DE VAREY         1640   \n2              1004.0        AMBERIEU EN BUGEY         1500   \n3              1005.0      AMBERIEUX EN DOMBES         1330   \n4              1006.0                  AMBLEON         1300   \n\n      libelle_acheminement ligne_5   latitude  longitude  code_commune  \\\n0  L ABERGEMENT CLEMENCIAT     NaN  46.153426   4.926114           1.0   \n1    L ABERGEMENT DE VAREY     NaN  46.009188   5.428017           2.0   \n2        AMBERIEU EN BUGEY     NaN  45.960848   5.372926           4.0   \n3      AMBERIEUX EN DOMBES     NaN  45.996180   4.912273           5.0   \n4                  AMBLEON     NaN  45.749499   5.594320           6.0   \n\n  article            nom_commune      nom_commune_complet code_departement  \\\n0      L'  Abergement-Clémenciat  L'Abergement-Clémenciat                1   \n1      L'    Abergement-de-Varey    L'Abergement-de-Varey                1   \n2     NaN      Ambérieu-en-Bugey        Ambérieu-en-Bugey                1   \n3     NaN    Ambérieux-en-Dombes      Ambérieux-en-Dombes                1   \n4     NaN                Ambléon                  Ambléon                1   \n\n  nom_departement  code_region            nom_region  \n0             Ain         84.0  Auvergne-Rhône-Alpes  \n1             Ain         84.0  Auvergne-Rhône-Alpes  \n2             Ain         84.0  Auvergne-Rhône-Alpes  \n3             Ain         84.0  Auvergne-Rhône-Alpes  \n4             Ain         84.0  Auvergne-Rhône-Alpes  ",
      "text/html": "<div>\n<style scoped>\n    .dataframe tbody tr th:only-of-type {\n        vertical-align: middle;\n    }\n\n    .dataframe tbody tr th {\n        vertical-align: top;\n    }\n\n    .dataframe thead th {\n        text-align: right;\n    }\n</style>\n<table border=\"1\" class=\"dataframe\">\n  <thead>\n    <tr style=\"text-align: right;\">\n      <th></th>\n      <th>Code commune INSEE</th>\n      <th>nom_commune_postal</th>\n      <th>code_postal</th>\n      <th>libelle_acheminement</th>\n      <th>ligne_5</th>\n      <th>latitude</th>\n      <th>longitude</th>\n      <th>code_commune</th>\n      <th>article</th>\n      <th>nom_commune</th>\n      <th>nom_commune_complet</th>\n      <th>code_departement</th>\n      <th>nom_departement</th>\n      <th>code_region</th>\n      <th>nom_region</th>\n    </tr>\n  </thead>\n  <tbody>\n    <tr>\n      <th>0</th>\n      <td>1001.0</td>\n      <td>L ABERGEMENT CLEMENCIAT</td>\n      <td>1400</td>\n      <td>L ABERGEMENT CLEMENCIAT</td>\n      <td>NaN</td>\n      <td>46.153426</td>\n      <td>4.926114</td>\n      <td>1.0</td>\n      <td>L'</td>\n      <td>Abergement-Clémenciat</td>\n      <td>L'Abergement-Clémenciat</td>\n      <td>1</td>\n      <td>Ain</td>\n      <td>84.0</td>\n      <td>Auvergne-Rhône-Alpes</td>\n    </tr>\n    <tr>\n      <th>1</th>\n      <td>1002.0</td>\n      <td>L ABERGEMENT DE VAREY</td>\n      <td>1640</td>\n      <td>L ABERGEMENT DE VAREY</td>\n      <td>NaN</td>\n      <td>46.009188</td>\n      <td>5.428017</td>\n      <td>2.0</td>\n      <td>L'</td>\n      <td>Abergement-de-Varey</td>\n      <td>L'Abergement-de-Varey</td>\n      <td>1</td>\n      <td>Ain</td>\n      <td>84.0</td>\n      <td>Auvergne-Rhône-Alpes</td>\n    </tr>\n    <tr>\n      <th>2</th>\n      <td>1004.0</td>\n      <td>AMBERIEU EN BUGEY</td>\n      <td>1500</td>\n      <td>AMBERIEU EN BUGEY</td>\n      <td>NaN</td>\n      <td>45.960848</td>\n      <td>5.372926</td>\n      <td>4.0</td>\n      <td>NaN</td>\n      <td>Ambérieu-en-Bugey</td>\n      <td>Ambérieu-en-Bugey</td>\n      <td>1</td>\n      <td>Ain</td>\n      <td>84.0</td>\n      <td>Auvergne-Rhône-Alpes</td>\n    </tr>\n    <tr>\n      <th>3</th>\n      <td>1005.0</td>\n      <td>AMBERIEUX EN DOMBES</td>\n      <td>1330</td>\n      <td>AMBERIEUX EN DOMBES</td>\n      <td>NaN</td>\n      <td>45.996180</td>\n      <td>4.912273</td>\n      <td>5.0</td>\n      <td>NaN</td>\n      <td>Ambérieux-en-Dombes</td>\n      <td>Ambérieux-en-Dombes</td>\n      <td>1</td>\n      <td>Ain</td>\n      <td>84.0</td>\n      <td>Auvergne-Rhône-Alpes</td>\n    </tr>\n    <tr>\n      <th>4</th>\n      <td>1006.0</td>\n      <td>AMBLEON</td>\n      <td>1300</td>\n      <td>AMBLEON</td>\n      <td>NaN</td>\n      <td>45.749499</td>\n      <td>5.594320</td>\n      <td>6.0</td>\n      <td>NaN</td>\n      <td>Ambléon</td>\n      <td>Ambléon</td>\n      <td>1</td>\n      <td>Ain</td>\n      <td>84.0</td>\n      <td>Auvergne-Rhône-Alpes</td>\n    </tr>\n  </tbody>\n</table>\n</div>"
     },
     "execution_count": 38,
     "metadata": {},
     "output_type": "execute_result"
    }
   ],
   "source": [
    "cdp.head()"
   ],
   "metadata": {
    "collapsed": false,
    "ExecuteTime": {
     "end_time": "2023-10-30T20:38:02.262037900Z",
     "start_time": "2023-10-30T20:38:01.976160800Z"
    }
   },
   "id": "eab42f94465f74b1"
  },
  {
   "cell_type": "markdown",
   "source": [
    "#### Merge apl & region-departement-commune"
   ],
   "metadata": {
    "collapsed": false
   },
   "id": "4a2c008cc85ad438"
  },
  {
   "cell_type": "code",
   "execution_count": 39,
   "outputs": [],
   "source": [
    "def merge_apl_cdp(apl):\n",
    "    return pd.merge(apl, cdp, on='Code commune INSEE')"
   ],
   "metadata": {
    "collapsed": false,
    "ExecuteTime": {
     "end_time": "2023-10-30T20:38:02.314152500Z",
     "start_time": "2023-10-30T20:38:02.089727500Z"
    }
   },
   "id": "fa1c7526f1e945aa"
  },
  {
   "cell_type": "code",
   "execution_count": 40,
   "outputs": [],
   "source": [
    "# join\n",
    "apl_2015 = merge_apl_cdp(apl_2015)\n",
    "apl_2016 = merge_apl_cdp(apl_2016)\n",
    "apl_2017 = merge_apl_cdp(apl_2017)\n",
    "apl_2018 = merge_apl_cdp(apl_2018)\n",
    "apl_2019 = merge_apl_cdp(apl_2019)\n",
    "apl_2021 = merge_apl_cdp(apl_2021)"
   ],
   "metadata": {
    "collapsed": false,
    "ExecuteTime": {
     "end_time": "2023-10-30T20:38:03.712881400Z",
     "start_time": "2023-10-30T20:38:02.238243200Z"
    }
   },
   "id": "7d8f4f9ef07f932f"
  },
  {
   "cell_type": "code",
   "execution_count": 41,
   "outputs": [
    {
     "data": {
      "text/plain": "   Code commune INSEE                   Commune APL aux médecins généralistes  \\\n0              1001.0  L' Abergement-Clémenciat                         2.382   \n1              1002.0    L' Abergement-de-Varey                         2.763   \n2              1004.0         Ambérieu-en-Bugey                          4.42   \n3              1005.0       Ambérieux-en-Dombes                          4.24   \n4              1006.0                   Ambléon                         1.103   \n\n  APL aux médecins généralistes de moins de 65 ans  \\\n0                                             2.21   \n1                                            2.673   \n2                                            4.324   \n3                                             4.24   \n4                                            0.926   \n\n  Population standardisée 2013 pour la médecine générale  \\\n0                                            763.384       \n1                                            235.303       \n2                                          14176.035       \n3                                           1605.501       \n4                                            111.035       \n\n  Population totale 2013       nom_commune_postal  code_postal  \\\n0                    767  L ABERGEMENT CLEMENCIAT         1400   \n1                    236    L ABERGEMENT DE VAREY         1640   \n2                  14359        AMBERIEU EN BUGEY         1500   \n3                   1635      AMBERIEUX EN DOMBES         1330   \n4                    108                  AMBLEON         1300   \n\n      libelle_acheminement ligne_5   latitude  longitude  code_commune  \\\n0  L ABERGEMENT CLEMENCIAT     NaN  46.153426   4.926114           1.0   \n1    L ABERGEMENT DE VAREY     NaN  46.009188   5.428017           2.0   \n2        AMBERIEU EN BUGEY     NaN  45.960848   5.372926           4.0   \n3      AMBERIEUX EN DOMBES     NaN  45.996180   4.912273           5.0   \n4                  AMBLEON     NaN  45.749499   5.594320           6.0   \n\n  article            nom_commune      nom_commune_complet code_departement  \\\n0      L'  Abergement-Clémenciat  L'Abergement-Clémenciat                1   \n1      L'    Abergement-de-Varey    L'Abergement-de-Varey                1   \n2     NaN      Ambérieu-en-Bugey        Ambérieu-en-Bugey                1   \n3     NaN    Ambérieux-en-Dombes      Ambérieux-en-Dombes                1   \n4     NaN                Ambléon                  Ambléon                1   \n\n  nom_departement  code_region            nom_region  \n0             Ain         84.0  Auvergne-Rhône-Alpes  \n1             Ain         84.0  Auvergne-Rhône-Alpes  \n2             Ain         84.0  Auvergne-Rhône-Alpes  \n3             Ain         84.0  Auvergne-Rhône-Alpes  \n4             Ain         84.0  Auvergne-Rhône-Alpes  ",
      "text/html": "<div>\n<style scoped>\n    .dataframe tbody tr th:only-of-type {\n        vertical-align: middle;\n    }\n\n    .dataframe tbody tr th {\n        vertical-align: top;\n    }\n\n    .dataframe thead th {\n        text-align: right;\n    }\n</style>\n<table border=\"1\" class=\"dataframe\">\n  <thead>\n    <tr style=\"text-align: right;\">\n      <th></th>\n      <th>Code commune INSEE</th>\n      <th>Commune</th>\n      <th>APL aux médecins généralistes</th>\n      <th>APL aux médecins généralistes de moins de 65 ans</th>\n      <th>Population standardisée 2013 pour la médecine générale</th>\n      <th>Population totale 2013</th>\n      <th>nom_commune_postal</th>\n      <th>code_postal</th>\n      <th>libelle_acheminement</th>\n      <th>ligne_5</th>\n      <th>latitude</th>\n      <th>longitude</th>\n      <th>code_commune</th>\n      <th>article</th>\n      <th>nom_commune</th>\n      <th>nom_commune_complet</th>\n      <th>code_departement</th>\n      <th>nom_departement</th>\n      <th>code_region</th>\n      <th>nom_region</th>\n    </tr>\n  </thead>\n  <tbody>\n    <tr>\n      <th>0</th>\n      <td>1001.0</td>\n      <td>L' Abergement-Clémenciat</td>\n      <td>2.382</td>\n      <td>2.21</td>\n      <td>763.384</td>\n      <td>767</td>\n      <td>L ABERGEMENT CLEMENCIAT</td>\n      <td>1400</td>\n      <td>L ABERGEMENT CLEMENCIAT</td>\n      <td>NaN</td>\n      <td>46.153426</td>\n      <td>4.926114</td>\n      <td>1.0</td>\n      <td>L'</td>\n      <td>Abergement-Clémenciat</td>\n      <td>L'Abergement-Clémenciat</td>\n      <td>1</td>\n      <td>Ain</td>\n      <td>84.0</td>\n      <td>Auvergne-Rhône-Alpes</td>\n    </tr>\n    <tr>\n      <th>1</th>\n      <td>1002.0</td>\n      <td>L' Abergement-de-Varey</td>\n      <td>2.763</td>\n      <td>2.673</td>\n      <td>235.303</td>\n      <td>236</td>\n      <td>L ABERGEMENT DE VAREY</td>\n      <td>1640</td>\n      <td>L ABERGEMENT DE VAREY</td>\n      <td>NaN</td>\n      <td>46.009188</td>\n      <td>5.428017</td>\n      <td>2.0</td>\n      <td>L'</td>\n      <td>Abergement-de-Varey</td>\n      <td>L'Abergement-de-Varey</td>\n      <td>1</td>\n      <td>Ain</td>\n      <td>84.0</td>\n      <td>Auvergne-Rhône-Alpes</td>\n    </tr>\n    <tr>\n      <th>2</th>\n      <td>1004.0</td>\n      <td>Ambérieu-en-Bugey</td>\n      <td>4.42</td>\n      <td>4.324</td>\n      <td>14176.035</td>\n      <td>14359</td>\n      <td>AMBERIEU EN BUGEY</td>\n      <td>1500</td>\n      <td>AMBERIEU EN BUGEY</td>\n      <td>NaN</td>\n      <td>45.960848</td>\n      <td>5.372926</td>\n      <td>4.0</td>\n      <td>NaN</td>\n      <td>Ambérieu-en-Bugey</td>\n      <td>Ambérieu-en-Bugey</td>\n      <td>1</td>\n      <td>Ain</td>\n      <td>84.0</td>\n      <td>Auvergne-Rhône-Alpes</td>\n    </tr>\n    <tr>\n      <th>3</th>\n      <td>1005.0</td>\n      <td>Ambérieux-en-Dombes</td>\n      <td>4.24</td>\n      <td>4.24</td>\n      <td>1605.501</td>\n      <td>1635</td>\n      <td>AMBERIEUX EN DOMBES</td>\n      <td>1330</td>\n      <td>AMBERIEUX EN DOMBES</td>\n      <td>NaN</td>\n      <td>45.996180</td>\n      <td>4.912273</td>\n      <td>5.0</td>\n      <td>NaN</td>\n      <td>Ambérieux-en-Dombes</td>\n      <td>Ambérieux-en-Dombes</td>\n      <td>1</td>\n      <td>Ain</td>\n      <td>84.0</td>\n      <td>Auvergne-Rhône-Alpes</td>\n    </tr>\n    <tr>\n      <th>4</th>\n      <td>1006.0</td>\n      <td>Ambléon</td>\n      <td>1.103</td>\n      <td>0.926</td>\n      <td>111.035</td>\n      <td>108</td>\n      <td>AMBLEON</td>\n      <td>1300</td>\n      <td>AMBLEON</td>\n      <td>NaN</td>\n      <td>45.749499</td>\n      <td>5.594320</td>\n      <td>6.0</td>\n      <td>NaN</td>\n      <td>Ambléon</td>\n      <td>Ambléon</td>\n      <td>1</td>\n      <td>Ain</td>\n      <td>84.0</td>\n      <td>Auvergne-Rhône-Alpes</td>\n    </tr>\n  </tbody>\n</table>\n</div>"
     },
     "execution_count": 41,
     "metadata": {},
     "output_type": "execute_result"
    }
   ],
   "source": [
    "apl_2015.head()"
   ],
   "metadata": {
    "collapsed": false,
    "ExecuteTime": {
     "end_time": "2023-10-30T20:38:03.860132600Z",
     "start_time": "2023-10-30T20:38:03.720925200Z"
    }
   },
   "id": "d1762fca1997c89e"
  },
  {
   "cell_type": "code",
   "execution_count": 42,
   "outputs": [
    {
     "data": {
      "text/plain": "        Code commune INSEE                   Commune  \\\n187975             75116.0  Paris 16e Arrondissement   \n187976             75117.0  Paris 17e Arrondissement   \n187977             75118.0  Paris 18e Arrondissement   \n187978             75119.0  Paris 19e Arrondissement   \n187979             75120.0  Paris 20e Arrondissement   \n\n       APL aux médecins généralistes  \\\n187975                         3.546   \n187976                         4.662   \n187977                         4.267   \n187978                         4.672   \n187979                          4.17   \n\n       APL aux médecins généralistes de moins de 65 ans  \\\n187975                                            2.768   \n187976                                            3.752   \n187977                                            3.479   \n187978                                            3.843   \n187979                                            3.404   \n\n       Population standardisée 2019 pour la médecine générale  \\\n187975                                          167614.21       \n187976                                         159595.107       \n187977                                          180410.01       \n187978                                         176730.213       \n187979                                         187719.246       \n\n       Population totale 2019 nom_commune_postal  code_postal  \\\n187975                 165523           PARIS 16        75116   \n187976                 166543           PARIS 17        75017   \n187977                 192468           PARIS 18        75018   \n187978                 184573           PARIS 19        75019   \n187979                 194994           PARIS 20        75020   \n\n       libelle_acheminement ligne_5   latitude  longitude  code_commune  \\\n187975                PARIS     NaN  48.860399   2.262100         116.0   \n187976                PARIS     NaN  48.887337   2.307486         117.0   \n187977                PARIS     NaN  48.892735   2.348712         118.0   \n187978                PARIS     NaN  48.886869   2.384694         119.0   \n187979                PARIS     NaN  48.863187   2.400820         120.0   \n\n       article nom_commune nom_commune_complet code_departement  \\\n187975     NaN    Paris 16            Paris 16               75   \n187976     NaN    Paris 17            Paris 17               75   \n187977     NaN    Paris 18            Paris 18               75   \n187978     NaN    Paris 19            Paris 19               75   \n187979     NaN    Paris 20            Paris 20               75   \n\n       nom_departement  code_region     nom_region  \n187975           Paris         11.0  Île-de-France  \n187976           Paris         11.0  Île-de-France  \n187977           Paris         11.0  Île-de-France  \n187978           Paris         11.0  Île-de-France  \n187979           Paris         11.0  Île-de-France  ",
      "text/html": "<div>\n<style scoped>\n    .dataframe tbody tr th:only-of-type {\n        vertical-align: middle;\n    }\n\n    .dataframe tbody tr th {\n        vertical-align: top;\n    }\n\n    .dataframe thead th {\n        text-align: right;\n    }\n</style>\n<table border=\"1\" class=\"dataframe\">\n  <thead>\n    <tr style=\"text-align: right;\">\n      <th></th>\n      <th>Code commune INSEE</th>\n      <th>Commune</th>\n      <th>APL aux médecins généralistes</th>\n      <th>APL aux médecins généralistes de moins de 65 ans</th>\n      <th>Population standardisée 2019 pour la médecine générale</th>\n      <th>Population totale 2019</th>\n      <th>nom_commune_postal</th>\n      <th>code_postal</th>\n      <th>libelle_acheminement</th>\n      <th>ligne_5</th>\n      <th>latitude</th>\n      <th>longitude</th>\n      <th>code_commune</th>\n      <th>article</th>\n      <th>nom_commune</th>\n      <th>nom_commune_complet</th>\n      <th>code_departement</th>\n      <th>nom_departement</th>\n      <th>code_region</th>\n      <th>nom_region</th>\n    </tr>\n  </thead>\n  <tbody>\n    <tr>\n      <th>187975</th>\n      <td>75116.0</td>\n      <td>Paris 16e Arrondissement</td>\n      <td>3.546</td>\n      <td>2.768</td>\n      <td>167614.21</td>\n      <td>165523</td>\n      <td>PARIS 16</td>\n      <td>75116</td>\n      <td>PARIS</td>\n      <td>NaN</td>\n      <td>48.860399</td>\n      <td>2.262100</td>\n      <td>116.0</td>\n      <td>NaN</td>\n      <td>Paris 16</td>\n      <td>Paris 16</td>\n      <td>75</td>\n      <td>Paris</td>\n      <td>11.0</td>\n      <td>Île-de-France</td>\n    </tr>\n    <tr>\n      <th>187976</th>\n      <td>75117.0</td>\n      <td>Paris 17e Arrondissement</td>\n      <td>4.662</td>\n      <td>3.752</td>\n      <td>159595.107</td>\n      <td>166543</td>\n      <td>PARIS 17</td>\n      <td>75017</td>\n      <td>PARIS</td>\n      <td>NaN</td>\n      <td>48.887337</td>\n      <td>2.307486</td>\n      <td>117.0</td>\n      <td>NaN</td>\n      <td>Paris 17</td>\n      <td>Paris 17</td>\n      <td>75</td>\n      <td>Paris</td>\n      <td>11.0</td>\n      <td>Île-de-France</td>\n    </tr>\n    <tr>\n      <th>187977</th>\n      <td>75118.0</td>\n      <td>Paris 18e Arrondissement</td>\n      <td>4.267</td>\n      <td>3.479</td>\n      <td>180410.01</td>\n      <td>192468</td>\n      <td>PARIS 18</td>\n      <td>75018</td>\n      <td>PARIS</td>\n      <td>NaN</td>\n      <td>48.892735</td>\n      <td>2.348712</td>\n      <td>118.0</td>\n      <td>NaN</td>\n      <td>Paris 18</td>\n      <td>Paris 18</td>\n      <td>75</td>\n      <td>Paris</td>\n      <td>11.0</td>\n      <td>Île-de-France</td>\n    </tr>\n    <tr>\n      <th>187978</th>\n      <td>75119.0</td>\n      <td>Paris 19e Arrondissement</td>\n      <td>4.672</td>\n      <td>3.843</td>\n      <td>176730.213</td>\n      <td>184573</td>\n      <td>PARIS 19</td>\n      <td>75019</td>\n      <td>PARIS</td>\n      <td>NaN</td>\n      <td>48.886869</td>\n      <td>2.384694</td>\n      <td>119.0</td>\n      <td>NaN</td>\n      <td>Paris 19</td>\n      <td>Paris 19</td>\n      <td>75</td>\n      <td>Paris</td>\n      <td>11.0</td>\n      <td>Île-de-France</td>\n    </tr>\n    <tr>\n      <th>187979</th>\n      <td>75120.0</td>\n      <td>Paris 20e Arrondissement</td>\n      <td>4.17</td>\n      <td>3.404</td>\n      <td>187719.246</td>\n      <td>194994</td>\n      <td>PARIS 20</td>\n      <td>75020</td>\n      <td>PARIS</td>\n      <td>NaN</td>\n      <td>48.863187</td>\n      <td>2.400820</td>\n      <td>120.0</td>\n      <td>NaN</td>\n      <td>Paris 20</td>\n      <td>Paris 20</td>\n      <td>75</td>\n      <td>Paris</td>\n      <td>11.0</td>\n      <td>Île-de-France</td>\n    </tr>\n  </tbody>\n</table>\n</div>"
     },
     "execution_count": 42,
     "metadata": {},
     "output_type": "execute_result"
    }
   ],
   "source": [
    "apl_2021.tail()"
   ],
   "metadata": {
    "collapsed": false,
    "ExecuteTime": {
     "end_time": "2023-10-30T20:38:04.257451100Z",
     "start_time": "2023-10-30T20:38:03.848616400Z"
    }
   },
   "id": "96b3d0b22cb1b585"
  },
  {
   "cell_type": "markdown",
   "source": [
    "#### create a grouped by departement and calculate apl weight"
   ],
   "metadata": {
    "collapsed": false
   },
   "id": "fa80efc8715aaa87"
  },
  {
   "cell_type": "code",
   "execution_count": 43,
   "outputs": [],
   "source": [
    "def group_by_departement(apl, year):\n",
    "    # Calculate the weighted APL for each commune\n",
    "    apl['Weighted APL'] = apl['APL aux médecins généralistes'] * apl['Population standardisée '+year+' pour la médecine générale']\n",
    "    \n",
    "    # Group by department and calculate the weighted average APL\n",
    "    apl = apl.groupby('nom_departement').agg({\n",
    "        'Weighted APL': 'sum',\n",
    "        'Population standardisée '+year+' pour la médecine générale': 'sum'\n",
    "    }).reset_index()\n",
    "    \n",
    "    apl['Weighted Average APL'] = apl['Weighted APL'] / apl['Population standardisée '+year+' pour la médecine générale']\n",
    "    return apl"
   ],
   "metadata": {
    "collapsed": false,
    "ExecuteTime": {
     "end_time": "2023-10-30T20:38:04.294137800Z",
     "start_time": "2023-10-30T20:38:03.998216Z"
    }
   },
   "id": "fd11a3df1740423b"
  },
  {
   "cell_type": "code",
   "execution_count": 44,
   "outputs": [],
   "source": [
    "grouped_apl_2015 = group_by_departement(apl_2015, '2013')\n",
    "grouped_apl_2016 = group_by_departement(apl_2016, '2014')\n",
    "grouped_apl_2017 = group_by_departement(apl_2017, '2015')\n",
    "grouped_apl_2018 = group_by_departement(apl_2018, '2016')\n",
    "grouped_apl_2019 = group_by_departement(apl_2019, '2017')\n",
    "grouped_apl_2021 = group_by_departement(apl_2021, '2019')"
   ],
   "metadata": {
    "collapsed": false,
    "ExecuteTime": {
     "end_time": "2023-10-30T20:38:04.676946700Z",
     "start_time": "2023-10-30T20:38:04.071538Z"
    }
   },
   "id": "a9f3861f02bfd664"
  },
  {
   "cell_type": "code",
   "execution_count": 45,
   "outputs": [
    {
     "data": {
      "text/plain": "           nom_departement     Weighted APL  \\\n0                      Ain   2324181.109843   \n1                    Aisne   1946143.935294   \n2                   Allier   1135747.349915   \n3          Alpes-Maritimes  17294652.315639   \n4  Alpes-de-Haute-Provence    869861.721134   \n\n  Population standardisée 2019 pour la médecine générale Weighted Average APL  \n0                                         821375.861                 2.829619  \n1                                         602127.136                 3.232115  \n2                                         360578.798                  3.14979  \n3                                        3559522.463                   4.8587  \n4                                         221412.374                 3.928695  ",
      "text/html": "<div>\n<style scoped>\n    .dataframe tbody tr th:only-of-type {\n        vertical-align: middle;\n    }\n\n    .dataframe tbody tr th {\n        vertical-align: top;\n    }\n\n    .dataframe thead th {\n        text-align: right;\n    }\n</style>\n<table border=\"1\" class=\"dataframe\">\n  <thead>\n    <tr style=\"text-align: right;\">\n      <th></th>\n      <th>nom_departement</th>\n      <th>Weighted APL</th>\n      <th>Population standardisée 2019 pour la médecine générale</th>\n      <th>Weighted Average APL</th>\n    </tr>\n  </thead>\n  <tbody>\n    <tr>\n      <th>0</th>\n      <td>Ain</td>\n      <td>2324181.109843</td>\n      <td>821375.861</td>\n      <td>2.829619</td>\n    </tr>\n    <tr>\n      <th>1</th>\n      <td>Aisne</td>\n      <td>1946143.935294</td>\n      <td>602127.136</td>\n      <td>3.232115</td>\n    </tr>\n    <tr>\n      <th>2</th>\n      <td>Allier</td>\n      <td>1135747.349915</td>\n      <td>360578.798</td>\n      <td>3.14979</td>\n    </tr>\n    <tr>\n      <th>3</th>\n      <td>Alpes-Maritimes</td>\n      <td>17294652.315639</td>\n      <td>3559522.463</td>\n      <td>4.8587</td>\n    </tr>\n    <tr>\n      <th>4</th>\n      <td>Alpes-de-Haute-Provence</td>\n      <td>869861.721134</td>\n      <td>221412.374</td>\n      <td>3.928695</td>\n    </tr>\n  </tbody>\n</table>\n</div>"
     },
     "execution_count": 45,
     "metadata": {},
     "output_type": "execute_result"
    }
   ],
   "source": [
    "grouped_apl_2021.head()"
   ],
   "metadata": {
    "collapsed": false,
    "ExecuteTime": {
     "end_time": "2023-10-30T20:38:04.818697300Z",
     "start_time": "2023-10-30T20:38:04.607772900Z"
    }
   },
   "id": "380e32b0c9ee6e22"
  },
  {
   "cell_type": "code",
   "execution_count": 46,
   "outputs": [
    {
     "data": {
      "text/plain": "   nom_departement    Weighted APL  \\\n95          Vendée  2757736.243661   \n96          Vienne  2258691.939296   \n97          Vosges  1673065.674088   \n98           Yonne  1399354.625015   \n99        Yvelines  4986207.116786   \n\n   Population standardisée 2016 pour la médecine générale Weighted Average APL  \n95                                         842973.148                  3.27144  \n96                                         521025.383                  4.33509  \n97                                         426198.318                 3.925557  \n98                                         510436.051                 2.741489  \n99                                         1657017.94                 3.009145  ",
      "text/html": "<div>\n<style scoped>\n    .dataframe tbody tr th:only-of-type {\n        vertical-align: middle;\n    }\n\n    .dataframe tbody tr th {\n        vertical-align: top;\n    }\n\n    .dataframe thead th {\n        text-align: right;\n    }\n</style>\n<table border=\"1\" class=\"dataframe\">\n  <thead>\n    <tr style=\"text-align: right;\">\n      <th></th>\n      <th>nom_departement</th>\n      <th>Weighted APL</th>\n      <th>Population standardisée 2016 pour la médecine générale</th>\n      <th>Weighted Average APL</th>\n    </tr>\n  </thead>\n  <tbody>\n    <tr>\n      <th>95</th>\n      <td>Vendée</td>\n      <td>2757736.243661</td>\n      <td>842973.148</td>\n      <td>3.27144</td>\n    </tr>\n    <tr>\n      <th>96</th>\n      <td>Vienne</td>\n      <td>2258691.939296</td>\n      <td>521025.383</td>\n      <td>4.33509</td>\n    </tr>\n    <tr>\n      <th>97</th>\n      <td>Vosges</td>\n      <td>1673065.674088</td>\n      <td>426198.318</td>\n      <td>3.925557</td>\n    </tr>\n    <tr>\n      <th>98</th>\n      <td>Yonne</td>\n      <td>1399354.625015</td>\n      <td>510436.051</td>\n      <td>2.741489</td>\n    </tr>\n    <tr>\n      <th>99</th>\n      <td>Yvelines</td>\n      <td>4986207.116786</td>\n      <td>1657017.94</td>\n      <td>3.009145</td>\n    </tr>\n  </tbody>\n</table>\n</div>"
     },
     "execution_count": 46,
     "metadata": {},
     "output_type": "execute_result"
    }
   ],
   "source": [
    "grouped_apl_2018.tail()"
   ],
   "metadata": {
    "collapsed": false,
    "ExecuteTime": {
     "end_time": "2023-10-30T20:38:04.977763300Z",
     "start_time": "2023-10-30T20:38:04.732623800Z"
    }
   },
   "id": "6c8929d667a13bfe"
  },
  {
   "cell_type": "markdown",
   "source": [
    "#### France Regions"
   ],
   "metadata": {
    "collapsed": false
   },
   "id": "d83713b7934d5d57"
  },
  {
   "cell_type": "code",
   "execution_count": 47,
   "outputs": [],
   "source": [
    "# Load the GeoJSON file with France's regions\n",
    "france_regions = gpd.read_file(\"https://raw.githubusercontent.com/holtzy/The-Python-Graph-Gallery/master/static/data/france.geojson\")"
   ],
   "metadata": {
    "collapsed": false,
    "ExecuteTime": {
     "end_time": "2023-10-30T20:38:05.605881500Z",
     "start_time": "2023-10-30T20:38:04.861254200Z"
    }
   },
   "id": "a181346305fc73e0"
  },
  {
   "cell_type": "code",
   "execution_count": 48,
   "outputs": [],
   "source": [
    "france_regions = france_regions.rename(columns={'nom': 'nom_departement'})"
   ],
   "metadata": {
    "collapsed": false,
    "ExecuteTime": {
     "end_time": "2023-10-30T20:38:05.719517200Z",
     "start_time": "2023-10-30T20:38:05.599009Z"
    }
   },
   "id": "8c58480fa78c3592"
  },
  {
   "cell_type": "code",
   "execution_count": 49,
   "outputs": [
    {
     "data": {
      "text/plain": "   code    nom_departement                                           geometry\n91   91            Essonne  POLYGON ((2.22656 48.77610, 2.23298 48.76620, ...\n92   92     Hauts-de-Seine  POLYGON ((2.29097 48.95097, 2.32697 48.94536, ...\n93   93  Seine-Saint-Denis  POLYGON ((2.55306 49.00982, 2.58031 48.99159, ...\n94   94       Val-de-Marne  POLYGON ((2.33190 48.81701, 2.36395 48.81632, ...\n95   95         Val-d'Oise  POLYGON ((2.59052 49.07965, 2.57203 49.06149, ...",
      "text/html": "<div>\n<style scoped>\n    .dataframe tbody tr th:only-of-type {\n        vertical-align: middle;\n    }\n\n    .dataframe tbody tr th {\n        vertical-align: top;\n    }\n\n    .dataframe thead th {\n        text-align: right;\n    }\n</style>\n<table border=\"1\" class=\"dataframe\">\n  <thead>\n    <tr style=\"text-align: right;\">\n      <th></th>\n      <th>code</th>\n      <th>nom_departement</th>\n      <th>geometry</th>\n    </tr>\n  </thead>\n  <tbody>\n    <tr>\n      <th>91</th>\n      <td>91</td>\n      <td>Essonne</td>\n      <td>POLYGON ((2.22656 48.77610, 2.23298 48.76620, ...</td>\n    </tr>\n    <tr>\n      <th>92</th>\n      <td>92</td>\n      <td>Hauts-de-Seine</td>\n      <td>POLYGON ((2.29097 48.95097, 2.32697 48.94536, ...</td>\n    </tr>\n    <tr>\n      <th>93</th>\n      <td>93</td>\n      <td>Seine-Saint-Denis</td>\n      <td>POLYGON ((2.55306 49.00982, 2.58031 48.99159, ...</td>\n    </tr>\n    <tr>\n      <th>94</th>\n      <td>94</td>\n      <td>Val-de-Marne</td>\n      <td>POLYGON ((2.33190 48.81701, 2.36395 48.81632, ...</td>\n    </tr>\n    <tr>\n      <th>95</th>\n      <td>95</td>\n      <td>Val-d'Oise</td>\n      <td>POLYGON ((2.59052 49.07965, 2.57203 49.06149, ...</td>\n    </tr>\n  </tbody>\n</table>\n</div>"
     },
     "execution_count": 49,
     "metadata": {},
     "output_type": "execute_result"
    }
   ],
   "source": [
    "france_regions.tail()"
   ],
   "metadata": {
    "collapsed": false,
    "ExecuteTime": {
     "end_time": "2023-10-30T20:38:05.884073900Z",
     "start_time": "2023-10-30T20:38:05.725428100Z"
    }
   },
   "id": "f4fbbe7cf9ce5427"
  },
  {
   "cell_type": "markdown",
   "source": [
    "#### Merge to get departement cordinate"
   ],
   "metadata": {
    "collapsed": false
   },
   "id": "970e30f8a069713b"
  },
  {
   "cell_type": "code",
   "execution_count": 50,
   "outputs": [],
   "source": [
    "def merge_to_get_cordinate(apl):\n",
    "    return france_regions.merge(apl, on='nom_departement')"
   ],
   "metadata": {
    "collapsed": false,
    "ExecuteTime": {
     "end_time": "2023-10-30T20:38:06.022608800Z",
     "start_time": "2023-10-30T20:38:05.858631200Z"
    }
   },
   "id": "ea560f4adb0bbd4c"
  },
  {
   "cell_type": "code",
   "execution_count": 51,
   "outputs": [],
   "source": [
    "departement_apl_2015 = merge_to_get_cordinate(grouped_apl_2015)\n",
    "departement_apl_2016 = merge_to_get_cordinate(grouped_apl_2016)\n",
    "departement_apl_2017 = merge_to_get_cordinate(grouped_apl_2017)\n",
    "departement_apl_2018 = merge_to_get_cordinate(grouped_apl_2018)\n",
    "departement_apl_2019 = merge_to_get_cordinate(grouped_apl_2019)\n",
    "departement_apl_2021 = merge_to_get_cordinate(grouped_apl_2021)"
   ],
   "metadata": {
    "collapsed": false,
    "ExecuteTime": {
     "end_time": "2023-10-30T20:38:06.241409900Z",
     "start_time": "2023-10-30T20:38:05.974126900Z"
    }
   },
   "id": "2a04df0c98a361ea"
  },
  {
   "cell_type": "code",
   "execution_count": 52,
   "outputs": [
    {
     "data": {
      "text/plain": "  code          nom_departement  \\\n0   01                      Ain   \n1   02                    Aisne   \n2   03                   Allier   \n3   04  Alpes-de-Haute-Provence   \n4   05             Hautes-Alpes   \n\n                                            geometry    Weighted APL  \\\n0  POLYGON ((4.78021 46.17668, 4.79458 46.21832, ...  2324181.109843   \n1  POLYGON ((4.04797 49.40564, 4.03991 49.39740, ...  1946143.935294   \n2  POLYGON ((3.03207 46.79491, 3.04907 46.75808, ...  1135747.349915   \n3  POLYGON ((5.67604 44.19143, 5.69209 44.18648, ...   869861.721134   \n4  POLYGON ((6.26057 45.12685, 6.29922 45.10855, ...  1037283.608615   \n\n  Population standardisée 2019 pour la médecine générale Weighted Average APL  \n0                                         821375.861                 2.829619  \n1                                         602127.136                 3.232115  \n2                                         360578.798                  3.14979  \n3                                         221412.374                 3.928695  \n4                                         204665.231                 5.068197  ",
      "text/html": "<div>\n<style scoped>\n    .dataframe tbody tr th:only-of-type {\n        vertical-align: middle;\n    }\n\n    .dataframe tbody tr th {\n        vertical-align: top;\n    }\n\n    .dataframe thead th {\n        text-align: right;\n    }\n</style>\n<table border=\"1\" class=\"dataframe\">\n  <thead>\n    <tr style=\"text-align: right;\">\n      <th></th>\n      <th>code</th>\n      <th>nom_departement</th>\n      <th>geometry</th>\n      <th>Weighted APL</th>\n      <th>Population standardisée 2019 pour la médecine générale</th>\n      <th>Weighted Average APL</th>\n    </tr>\n  </thead>\n  <tbody>\n    <tr>\n      <th>0</th>\n      <td>01</td>\n      <td>Ain</td>\n      <td>POLYGON ((4.78021 46.17668, 4.79458 46.21832, ...</td>\n      <td>2324181.109843</td>\n      <td>821375.861</td>\n      <td>2.829619</td>\n    </tr>\n    <tr>\n      <th>1</th>\n      <td>02</td>\n      <td>Aisne</td>\n      <td>POLYGON ((4.04797 49.40564, 4.03991 49.39740, ...</td>\n      <td>1946143.935294</td>\n      <td>602127.136</td>\n      <td>3.232115</td>\n    </tr>\n    <tr>\n      <th>2</th>\n      <td>03</td>\n      <td>Allier</td>\n      <td>POLYGON ((3.03207 46.79491, 3.04907 46.75808, ...</td>\n      <td>1135747.349915</td>\n      <td>360578.798</td>\n      <td>3.14979</td>\n    </tr>\n    <tr>\n      <th>3</th>\n      <td>04</td>\n      <td>Alpes-de-Haute-Provence</td>\n      <td>POLYGON ((5.67604 44.19143, 5.69209 44.18648, ...</td>\n      <td>869861.721134</td>\n      <td>221412.374</td>\n      <td>3.928695</td>\n    </tr>\n    <tr>\n      <th>4</th>\n      <td>05</td>\n      <td>Hautes-Alpes</td>\n      <td>POLYGON ((6.26057 45.12685, 6.29922 45.10855, ...</td>\n      <td>1037283.608615</td>\n      <td>204665.231</td>\n      <td>5.068197</td>\n    </tr>\n  </tbody>\n</table>\n</div>"
     },
     "execution_count": 52,
     "metadata": {},
     "output_type": "execute_result"
    }
   ],
   "source": [
    "departement_apl_2021.head()"
   ],
   "metadata": {
    "collapsed": false,
    "ExecuteTime": {
     "end_time": "2023-10-30T20:38:06.382841800Z",
     "start_time": "2023-10-30T20:38:06.143333500Z"
    }
   },
   "id": "ce8a97efbd9269f1"
  },
  {
   "cell_type": "code",
   "execution_count": 53,
   "outputs": [
    {
     "data": {
      "text/plain": "  code          nom_departement  \\\n0   01                      Ain   \n1   02                    Aisne   \n2   03                   Allier   \n3   04  Alpes-de-Haute-Provence   \n4   05             Hautes-Alpes   \n\n                                            geometry    Weighted APL  \\\n0  POLYGON ((4.78021 46.17668, 4.79458 46.21832, ...  2497946.186231   \n1  POLYGON ((4.04797 49.40564, 4.03991 49.39740, ...  2171969.337465   \n2  POLYGON ((3.03207 46.79491, 3.04907 46.75808, ...   1267466.68451   \n3  POLYGON ((5.67604 44.19143, 5.69209 44.18648, ...   920209.020764   \n4  POLYGON ((6.26057 45.12685, 6.29922 45.10855, ...   1018688.52497   \n\n  Population standardisée 2014 pour la médecine générale Weighted Average APL  \n0                                         799376.137                  3.12487  \n1                                         611893.447                 3.549588  \n2                                         366430.643                 3.458954  \n3                                         217388.438                 4.233017  \n4                                           200835.3                 5.072258  ",
      "text/html": "<div>\n<style scoped>\n    .dataframe tbody tr th:only-of-type {\n        vertical-align: middle;\n    }\n\n    .dataframe tbody tr th {\n        vertical-align: top;\n    }\n\n    .dataframe thead th {\n        text-align: right;\n    }\n</style>\n<table border=\"1\" class=\"dataframe\">\n  <thead>\n    <tr style=\"text-align: right;\">\n      <th></th>\n      <th>code</th>\n      <th>nom_departement</th>\n      <th>geometry</th>\n      <th>Weighted APL</th>\n      <th>Population standardisée 2014 pour la médecine générale</th>\n      <th>Weighted Average APL</th>\n    </tr>\n  </thead>\n  <tbody>\n    <tr>\n      <th>0</th>\n      <td>01</td>\n      <td>Ain</td>\n      <td>POLYGON ((4.78021 46.17668, 4.79458 46.21832, ...</td>\n      <td>2497946.186231</td>\n      <td>799376.137</td>\n      <td>3.12487</td>\n    </tr>\n    <tr>\n      <th>1</th>\n      <td>02</td>\n      <td>Aisne</td>\n      <td>POLYGON ((4.04797 49.40564, 4.03991 49.39740, ...</td>\n      <td>2171969.337465</td>\n      <td>611893.447</td>\n      <td>3.549588</td>\n    </tr>\n    <tr>\n      <th>2</th>\n      <td>03</td>\n      <td>Allier</td>\n      <td>POLYGON ((3.03207 46.79491, 3.04907 46.75808, ...</td>\n      <td>1267466.68451</td>\n      <td>366430.643</td>\n      <td>3.458954</td>\n    </tr>\n    <tr>\n      <th>3</th>\n      <td>04</td>\n      <td>Alpes-de-Haute-Provence</td>\n      <td>POLYGON ((5.67604 44.19143, 5.69209 44.18648, ...</td>\n      <td>920209.020764</td>\n      <td>217388.438</td>\n      <td>4.233017</td>\n    </tr>\n    <tr>\n      <th>4</th>\n      <td>05</td>\n      <td>Hautes-Alpes</td>\n      <td>POLYGON ((6.26057 45.12685, 6.29922 45.10855, ...</td>\n      <td>1018688.52497</td>\n      <td>200835.3</td>\n      <td>5.072258</td>\n    </tr>\n  </tbody>\n</table>\n</div>"
     },
     "execution_count": 53,
     "metadata": {},
     "output_type": "execute_result"
    }
   ],
   "source": [
    "departement_apl_2016.head()"
   ],
   "metadata": {
    "collapsed": false,
    "ExecuteTime": {
     "end_time": "2023-10-30T20:38:06.469949500Z",
     "start_time": "2023-10-30T20:38:06.269577400Z"
    }
   },
   "id": "91387c426e58fa53"
  },
  {
   "cell_type": "markdown",
   "source": [
    "#### Maps"
   ],
   "metadata": {
    "collapsed": false
   },
   "id": "284e08b696647d44"
  },
  {
   "cell_type": "code",
   "execution_count": 54,
   "outputs": [],
   "source": [
    "def notebook_map(apl):\n",
    "    # Create a folium map centered at a specific location\n",
    "    m = folium.Map(location=[48, 2], zoom_start=6)\n",
    "    \n",
    "    # Add a choropleth layer to the map\n",
    "    Choropleth(\n",
    "        geo_data=apl,\n",
    "        data=apl,\n",
    "        columns=['code', 'Weighted Average APL'],\n",
    "        key_on='feature.properties.code',\n",
    "        fill_color='YlOrRd',\n",
    "        fill_opacity=0.7,\n",
    "        line_opacity=0.2,\n",
    "        legend_name='Weighted Average APL'\n",
    "    ).add_to(m)\n",
    "    \n",
    "    # Create markers for each region with tooltips\n",
    "    for idx, row in apl.iterrows():\n",
    "        folium.Marker(\n",
    "            location=row['geometry'].centroid.coords[0][::-1],  # Use the centroid of the region\n",
    "            popup=f\"Department: {row['nom_departement']}<br>APL: {row['Weighted Average APL']:.2f}\",\n",
    "        ).add_to(m)\n",
    "    \n",
    "    return m\n"
   ],
   "metadata": {
    "collapsed": false,
    "ExecuteTime": {
     "end_time": "2023-10-30T20:38:06.662612900Z",
     "start_time": "2023-10-30T20:38:06.393699200Z"
    }
   },
   "id": "e3eaefa61402e72b"
  },
  {
   "cell_type": "code",
   "execution_count": 55,
   "outputs": [],
   "source": [
    "m_2015 = notebook_map(departement_apl_2015)\n",
    "m_2016 = notebook_map(departement_apl_2016)\n",
    "m_2017 = notebook_map(departement_apl_2017)\n",
    "m_2018 = notebook_map(departement_apl_2018)\n",
    "m_2019 = notebook_map(departement_apl_2019)"
   ],
   "metadata": {
    "collapsed": false,
    "ExecuteTime": {
     "end_time": "2023-10-30T20:38:08.616906600Z",
     "start_time": "2023-10-30T20:38:06.504748800Z"
    }
   },
   "id": "db45122e1e08a891"
  },
  {
   "cell_type": "markdown",
   "source": [
    "#### Interactive years"
   ],
   "metadata": {
    "collapsed": false
   },
   "id": "79a83f222746ffb9"
  },
  {
   "cell_type": "code",
   "execution_count": 57,
   "outputs": [
    {
     "data": {
      "text/plain": "Dropdown(description='Select a Year:', options=('2015', '2016', '2017', '2018', '2019'), value='2015')",
      "application/vnd.jupyter.widget-view+json": {
       "version_major": 2,
       "version_minor": 0,
       "model_id": "439b52e77ad74a72a2d94f98e4392e53"
      }
     },
     "metadata": {},
     "output_type": "display_data"
    },
    {
     "data": {
      "text/plain": "Output()",
      "application/vnd.jupyter.widget-view+json": {
       "version_major": 2,
       "version_minor": 0,
       "model_id": "488dbfe00f31491facc92769d3d66721"
      }
     },
     "metadata": {},
     "output_type": "display_data"
    }
   ],
   "source": [
    "import ipywidgets\n",
    "from IPython.display import display, HTML\n",
    "\n",
    "# Define the maps for different years\n",
    "maps = {\n",
    "    \"2015\": m_2015,\n",
    "    \"2016\": m_2016,\n",
    "    \"2017\": m_2017,\n",
    "    \"2018\": m_2018,\n",
    "    \"2019\": m_2019,\n",
    "}\n",
    "\n",
    "# Create a dropdown widget to select the year\n",
    "year_selector = ipywidgets.Dropdown(\n",
    "    options=list(maps.keys()),\n",
    "    value=\"2015\",\n",
    "    description=\"Select a Year:\",\n",
    ")\n",
    "\n",
    "# Create an output widget to display the selected map\n",
    "map_output = ipywidgets.Output()\n",
    "\n",
    "# Function to update the displayed map based on the selected year\n",
    "def update_map(change):\n",
    "    selected_year = year_selector.value\n",
    "    selected_map = maps[selected_year]\n",
    "\n",
    "    map_output.clear_output()\n",
    "    with map_output:\n",
    "        display(selected_map)\n",
    "\n",
    "# Attach the update_map function to the year_selector widget\n",
    "year_selector.observe(update_map, names='value')\n",
    "\n",
    "# Display the widgets\n",
    "display(year_selector)\n",
    "display(map_output)\n"
   ],
   "metadata": {
    "collapsed": false,
    "ExecuteTime": {
     "end_time": "2023-10-30T20:46:33.738344300Z",
     "start_time": "2023-10-30T20:46:33.337122300Z"
    }
   },
   "id": "ed8ed17bb21c223a"
  }
 ],
 "metadata": {
  "kernelspec": {
   "display_name": "Python 3",
   "language": "python",
   "name": "python3"
  },
  "language_info": {
   "codemirror_mode": {
    "name": "ipython",
    "version": 2
   },
   "file_extension": ".py",
   "mimetype": "text/x-python",
   "name": "python",
   "nbconvert_exporter": "python",
   "pygments_lexer": "ipython2",
   "version": "2.7.6"
  }
 },
 "nbformat": 4,
 "nbformat_minor": 5
}
